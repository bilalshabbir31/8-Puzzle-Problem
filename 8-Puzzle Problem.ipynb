{
 "cells": [
  {
   "cell_type": "code",
   "execution_count": 1,
   "metadata": {},
   "outputs": [],
   "source": [
    "import numpy as np"
   ]
  },
  {
   "cell_type": "code",
   "execution_count": 3,
   "metadata": {},
   "outputs": [],
   "source": [
    "class Puzzle:\n",
    "    def __init__(self):\n",
    "        pass\n",
    "    \n",
    "    def generate_new_states(self,location,copy_state):\n",
    "        s=[]\n",
    "        new_state=copy_state.copy()\n",
    "\n",
    "        if location==[0,0]:\n",
    "            swap_value = copy_state[location[0]+1,location[1]]\n",
    "            new_state[location[0]+1,location[1]] = 0\n",
    "            new_state[location[0],location[1]] = swap_value\n",
    "            s.append(new_state)\n",
    "        \n",
    "\n",
    "            new_state=copy_state.copy()\n",
    "\n",
    "            swap_value = copy_state[location[0],location[1]+1]\n",
    "            new_state[location[0],location[1]+1] = 0\n",
    "            new_state[location[0],location[1]] = swap_value\n",
    "            s.append(new_state)\n",
    "        \n",
    "        elif location==[0,1]:\n",
    "            swap_value=copy_state[location[0],location[1]-1]\n",
    "            new_state[location[0],location[1]-1] = 0\n",
    "            new_state[location[0],location[1]] = swap_value\n",
    "            s.append(new_state)\n",
    "        \n",
    "            new_state=copy_state.copy()\n",
    "        \n",
    "            swap_value=copy_state[location[0]+1,location[1]]\n",
    "            new_state[location[0]+1,location[1]] = 0\n",
    "            new_state[location[0],location[1]] = swap_value\n",
    "            s.append(new_state)\n",
    "        \n",
    "            new_state=copy_state.copy()\n",
    "        \n",
    "            swap_value=copy_state[location[0],location[1]+1]\n",
    "            new_state[location[0],location[1]+1] = 0\n",
    "            new_state[location[0],location[1]] = swap_value\n",
    "            s.append(new_state)\n",
    "        \n",
    "    \n",
    "        elif location==[0,2]:\n",
    "            swap_value = copy_state[location[0],location[1]-1]\n",
    "            new_state[location[0],location[1]-1] = 0\n",
    "            new_state[location[0],location[1]] = swap_value\n",
    "            s.append(new_state)\n",
    "        \n",
    "\n",
    "        \n",
    "            new_state=copy_state.copy()\n",
    "\n",
    "            swap_value = copy_state[location[0]+1,location[1]]\n",
    "            new_state[location[0]+1,location[1]] = 0\n",
    "            new_state[location[0],location[1]] = swap_value\n",
    "            s.append(new_state)\n",
    "        \n",
    "        elif location==[1,0]:\n",
    "            swap_value=copy_state[location[0]-1,location[1]]\n",
    "            new_state[location[0]-1,location[1]] = 0\n",
    "            new_state[location[0],location[1]] = swap_value\n",
    "            s.append(new_state)\n",
    "\n",
    "            new_state=copy_state.copy()\n",
    "\n",
    "            swap_value=copy_state[location[0],location[1]+1]\n",
    "            new_state[location[0],location[1]+1] = 0\n",
    "            new_state[location[0],location[1]] = swap_value\n",
    "            s.append(new_state)\n",
    "\n",
    "            new_state=copy_state.copy()\n",
    "\n",
    "            swap_value=copy_state[location[0]+1,location[1]]\n",
    "            new_state[location[0]+1,location[1]] = 0\n",
    "            new_state[location[0],location[1]] = swap_value\n",
    "            s.append(new_state)\n",
    "        \n",
    "        elif location==[1,1]:\n",
    "            swap_value=copy_state[location[0],location[1]-1]\n",
    "            new_state[location[0],location[1]-1] = 0\n",
    "            new_state[location[0],location[1]] = swap_value\n",
    "            s.append(new_state)\n",
    "\n",
    "            new_state=copy_state.copy()\n",
    "\n",
    "            swap_value=copy_state[location[0]-1,location[1]]\n",
    "            new_state[location[0]-1,location[1]] = 0\n",
    "            new_state[location[0],location[1]] = swap_value\n",
    "            s.append(new_state)\n",
    "\n",
    "            new_state=copy_state.copy()\n",
    "\n",
    "            swap_value=copy_state[location[0]+1,location[1]]\n",
    "            new_state[location[0]+1,location[1]] = 0\n",
    "            new_state[location[0],location[1]] = swap_value\n",
    "            s.append(new_state)\n",
    "\n",
    "            new_state=copy_state.copy()\n",
    "\n",
    "            swap_value=copy_state[location[0],location[1]+1]\n",
    "            new_state[location[0],location[1]+1] = 0\n",
    "            new_state[location[0],location[1]] = swap_value\n",
    "            s.append(new_state)\n",
    "        \n",
    "        elif location==[1,2]:\n",
    "            swap_value=copy_state[location[0]-1,location[1]]\n",
    "            new_state[location[0]-1,location[1]] = 0\n",
    "            new_state[location[0],location[1]] = swap_value\n",
    "            s.append(new_state)\n",
    "\n",
    "            new_state=copy_state.copy()\n",
    "\n",
    "            swap_value=copy_state[location[0],location[1]-1]\n",
    "            new_state[location[0],location[1]-1] = 0\n",
    "            new_state[location[0],location[1]] = swap_value\n",
    "            s.append(new_state)\n",
    "\n",
    "            new_state=copy_state.copy()\n",
    "\n",
    "            swap_value=copy_state[location[0]+1,location[1]]\n",
    "            new_state[location[0]+1,location[1]] = 0\n",
    "            new_state[location[0],location[1]] = swap_value\n",
    "            s.append(new_state)\n",
    "        \n",
    "        elif location==[2,0]:\n",
    "            swap_value = copy_state[location[0]-1,location[1]]\n",
    "            new_state[location[0]-1,location[1]] = 0\n",
    "            new_state[location[0],location[1]] = swap_value\n",
    "            s.append(new_state)\n",
    "\n",
    "\n",
    "\n",
    "            new_state=copy_state.copy()\n",
    "\n",
    "            swap_value = copy_state[location[0],location[1]+1]\n",
    "            new_state[location[0],location[1]+1] = 0\n",
    "            new_state[location[0],location[1]] = swap_value\n",
    "            s.append(new_state)\n",
    "    \n",
    "        elif location==[2,1]:\n",
    "            swap_value=copy_state[location[0]-1,location[1]]\n",
    "            new_state[location[0]-1,location[1]] = 0\n",
    "            new_state[location[0],location[1]] = swap_value\n",
    "            s.append(new_state)\n",
    "\n",
    "            new_state=copy_state.copy()\n",
    "\n",
    "            swap_value=copy_state[location[0],location[1]-1]\n",
    "            new_state[location[0],location[1]-1] = 0\n",
    "            new_state[location[0],location[1]] = swap_value\n",
    "            s.append(new_state)\n",
    "\n",
    "            new_state=copy_state.copy()\n",
    "\n",
    "            swap_value=copy_state[location[0],location[1]+1]\n",
    "            new_state[location[0],location[1]+1] = 0\n",
    "            new_state[location[0],location[1]] = swap_value\n",
    "            s.append(new_state)\n",
    "        \n",
    "        elif location==[2,2]:\n",
    "            swap_value=copy_state[location[0]-1,location[1]]\n",
    "            new_state[location[0]-1,location[1]] = 0\n",
    "            new_state[location[0],location[1]] = swap_value\n",
    "            s.append(new_state)\n",
    "\n",
    "            new_state=copy_state.copy()\n",
    "\n",
    "            swap_value=copy_state[location[0],location[1]-1]\n",
    "            new_state[location[0],location[1]-1] = 0\n",
    "            new_state[location[0],location[1]] = swap_value\n",
    "            s.append(new_state)\n",
    "        \n",
    "        return s\n",
    "    \n",
    "\n",
    "\n",
    "    def a_star_traversal(self,intial_state,Goal_state):\n",
    "        copy_state=intial_state.copy()\n",
    "        g={}\n",
    "        \n",
    "        while np.array_equal(copy_state,Goal_state)!=True:\n",
    "            \n",
    "            location=self.get_Empty_tile_Location(copy_state)\n",
    "            New_States=self.generate_new_states(location,copy_state)\n",
    "#             if np.array_equal(copy_state,Goal_state)==True:\n",
    "#                 break\n",
    "            cost=self.h_mismatch_cost(New_States,Goal_state)\n",
    "            Minimum_cost=self.get_Minimum_Cost_Path(cost)\n",
    "            copy_state=cost.get(Minimum_cost)\n",
    "            self.display_path(copy_state)\n",
    "        \n",
    "    \n",
    "    def get_Minimum_Cost_Path(self,g):      ## find the minimum cost of tiles\n",
    "        x=[k for k,v in g.items()]\n",
    "        x.sort()\n",
    "        return x[0]\n",
    "    \n",
    "    def get_Empty_tile_Location(self,state):\n",
    "        zero_location = [x[0] for x in np.where(state==0)]\n",
    "        return zero_location\n",
    "    \n",
    "    def h_mismatch_cost(self,array,Goal_state):    ## cost of titles\n",
    "        dic={}\n",
    "        for i in array:\n",
    "            cost = np.sum(i != Goal_state)\n",
    "            if cost in dic.keys():\n",
    "                arr=[]\n",
    "                arr.append(dic.get(cost))\n",
    "                arr.append(i)\n",
    "                dic[cost]=arr\n",
    "            else:\n",
    "                cost = np.sum(i != Goal_state)\n",
    "                dic[cost]=i\n",
    "\n",
    "        return dic\n",
    "    \n",
    "    def display_path(self,state):\n",
    "        print(state)"
   ]
  },
  {
   "cell_type": "code",
   "execution_count": 4,
   "metadata": {},
   "outputs": [
    {
     "data": {
      "text/plain": [
       "array([[0, 1, 3],\n",
       "       [4, 2, 5],\n",
       "       [7, 8, 6]])"
      ]
     },
     "execution_count": 4,
     "metadata": {},
     "output_type": "execute_result"
    }
   ],
   "source": [
    "#intializing current state.\n",
    "\n",
    "intial_state=np.array([0,1,3,4,2,5,7,8,6]).reshape(3,3)\n",
    "intial_state"
   ]
  },
  {
   "cell_type": "code",
   "execution_count": 5,
   "metadata": {},
   "outputs": [
    {
     "data": {
      "text/plain": [
       "array([[1, 2, 3],\n",
       "       [4, 5, 6],\n",
       "       [7, 8, 0]])"
      ]
     },
     "execution_count": 5,
     "metadata": {},
     "output_type": "execute_result"
    }
   ],
   "source": [
    "#intializing Goal state.\n",
    "\n",
    "Goal_state=np.array([1,2,3,4,5,6,7,8,0]).reshape(3,3)\n",
    "Goal_state"
   ]
  },
  {
   "cell_type": "code",
   "execution_count": 6,
   "metadata": {},
   "outputs": [],
   "source": [
    "copy=intial_state.copy()"
   ]
  },
  {
   "cell_type": "code",
   "execution_count": 7,
   "metadata": {},
   "outputs": [
    {
     "data": {
      "text/plain": [
       "array([[0, 1, 3],\n",
       "       [4, 2, 5],\n",
       "       [7, 8, 6]])"
      ]
     },
     "execution_count": 7,
     "metadata": {},
     "output_type": "execute_result"
    }
   ],
   "source": [
    "copy"
   ]
  },
  {
   "cell_type": "code",
   "execution_count": 8,
   "metadata": {},
   "outputs": [],
   "source": [
    "p=Puzzle()"
   ]
  },
  {
   "cell_type": "code",
   "execution_count": 9,
   "metadata": {},
   "outputs": [
    {
     "name": "stdout",
     "output_type": "stream",
     "text": [
      "[[1 0 3]\n",
      " [4 2 5]\n",
      " [7 8 6]]\n",
      "[[1 2 3]\n",
      " [4 0 5]\n",
      " [7 8 6]]\n",
      "[[1 2 3]\n",
      " [4 5 0]\n",
      " [7 8 6]]\n",
      "[[1 2 3]\n",
      " [4 5 6]\n",
      " [7 8 0]]\n"
     ]
    }
   ],
   "source": [
    "p.a_star_traversal(intial_state,Goal_state)"
   ]
  }
 ],
 "metadata": {
  "kernelspec": {
   "display_name": "Python 3",
   "language": "python",
   "name": "python3"
  },
  "language_info": {
   "codemirror_mode": {
    "name": "ipython",
    "version": 3
   },
   "file_extension": ".py",
   "mimetype": "text/x-python",
   "name": "python",
   "nbconvert_exporter": "python",
   "pygments_lexer": "ipython3",
   "version": "3.8.5"
  }
 },
 "nbformat": 4,
 "nbformat_minor": 4
}
